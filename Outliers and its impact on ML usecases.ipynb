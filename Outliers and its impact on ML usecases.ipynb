{
 "cells": [
  {
   "cell_type": "markdown",
   "id": "8ac7d77d",
   "metadata": {},
   "source": [
    "# Outliers and its impact on machine learning use cases"
   ]
  },
  {
   "cell_type": "markdown",
   "id": "87d112a1",
   "metadata": {},
   "source": [
    "### Which machine learning models are sensitive to Outliers?\n",
    "#### 1) Naive Bayes Classifier --- Not sensitive to outliers\n",
    "#### 2) SVM --                     Not sensitive to outliers\n",
    "#### 3) Linear Regression --       Sensitive to outliers\n",
    "#### 4) Logistic Regression --     Sensitive to outliers\n",
    "#### 5) Decision Tree Regressor (or) classifier -- Not sensitive to outliers\n",
    "#### 6) Ensemble(RF, Xgboost, GB)- Not sensitive to outliers\n",
    "#### 7) KNN --                     Not sensitive to outliers\n",
    "#### 8) KMeans --                  Sensitive\n",
    "#### 9) Hierarichal --             Sensitive\n",
    "#### 10) PCA --                     Sensitive\n",
    "#### 11) Neural Networks --         Sensitive\n",
    "#### 12) DBscan --               Sensitive\n",
    "- Note : All unsupervisied machine learning models are sensitive to outliers"
   ]
  },
  {
   "cell_type": "code",
   "execution_count": 1,
   "id": "d96248dd",
   "metadata": {},
   "outputs": [],
   "source": [
    "import numpy as np\n",
    "import pandas as pd\n",
    "import matplotlib.pyplot as plt\n",
    "%matplotlib inline\n",
    "import seaborn as sns\n",
    "from sklearn.preprocessing import StandardScaler\n",
    "from sklearn.preprocessing import MinMaxScaler\n",
    "from sklearn.preprocessing import RobustScaler\n",
    "\n",
    "pd.pandas.set_option(\"display.max_columns\", None)\n",
    "pd.pandas.set_option(\"display.max_rows\",None)"
   ]
  },
  {
   "cell_type": "code",
   "execution_count": 2,
   "id": "64f0a8ed",
   "metadata": {},
   "outputs": [
    {
     "data": {
      "text/html": [
       "<div>\n",
       "<style scoped>\n",
       "    .dataframe tbody tr th:only-of-type {\n",
       "        vertical-align: middle;\n",
       "    }\n",
       "\n",
       "    .dataframe tbody tr th {\n",
       "        vertical-align: top;\n",
       "    }\n",
       "\n",
       "    .dataframe thead th {\n",
       "        text-align: right;\n",
       "    }\n",
       "</style>\n",
       "<table border=\"1\" class=\"dataframe\">\n",
       "  <thead>\n",
       "    <tr style=\"text-align: right;\">\n",
       "      <th></th>\n",
       "      <th>PassengerId</th>\n",
       "      <th>Survived</th>\n",
       "      <th>Pclass</th>\n",
       "      <th>Name</th>\n",
       "      <th>Sex</th>\n",
       "      <th>Age</th>\n",
       "      <th>SibSp</th>\n",
       "      <th>Parch</th>\n",
       "      <th>Ticket</th>\n",
       "      <th>Fare</th>\n",
       "      <th>Cabin</th>\n",
       "      <th>Embarked</th>\n",
       "    </tr>\n",
       "  </thead>\n",
       "  <tbody>\n",
       "    <tr>\n",
       "      <th>0</th>\n",
       "      <td>1</td>\n",
       "      <td>0</td>\n",
       "      <td>3</td>\n",
       "      <td>Braund, Mr. Owen Harris</td>\n",
       "      <td>male</td>\n",
       "      <td>22.0</td>\n",
       "      <td>1</td>\n",
       "      <td>0</td>\n",
       "      <td>A/5 21171</td>\n",
       "      <td>7.2500</td>\n",
       "      <td>NaN</td>\n",
       "      <td>S</td>\n",
       "    </tr>\n",
       "    <tr>\n",
       "      <th>1</th>\n",
       "      <td>2</td>\n",
       "      <td>1</td>\n",
       "      <td>1</td>\n",
       "      <td>Cumings, Mrs. John Bradley (Florence Briggs Th...</td>\n",
       "      <td>female</td>\n",
       "      <td>38.0</td>\n",
       "      <td>1</td>\n",
       "      <td>0</td>\n",
       "      <td>PC 17599</td>\n",
       "      <td>71.2833</td>\n",
       "      <td>C85</td>\n",
       "      <td>C</td>\n",
       "    </tr>\n",
       "    <tr>\n",
       "      <th>2</th>\n",
       "      <td>3</td>\n",
       "      <td>1</td>\n",
       "      <td>3</td>\n",
       "      <td>Heikkinen, Miss. Laina</td>\n",
       "      <td>female</td>\n",
       "      <td>26.0</td>\n",
       "      <td>0</td>\n",
       "      <td>0</td>\n",
       "      <td>STON/O2. 3101282</td>\n",
       "      <td>7.9250</td>\n",
       "      <td>NaN</td>\n",
       "      <td>S</td>\n",
       "    </tr>\n",
       "    <tr>\n",
       "      <th>3</th>\n",
       "      <td>4</td>\n",
       "      <td>1</td>\n",
       "      <td>1</td>\n",
       "      <td>Futrelle, Mrs. Jacques Heath (Lily May Peel)</td>\n",
       "      <td>female</td>\n",
       "      <td>35.0</td>\n",
       "      <td>1</td>\n",
       "      <td>0</td>\n",
       "      <td>113803</td>\n",
       "      <td>53.1000</td>\n",
       "      <td>C123</td>\n",
       "      <td>S</td>\n",
       "    </tr>\n",
       "    <tr>\n",
       "      <th>4</th>\n",
       "      <td>5</td>\n",
       "      <td>0</td>\n",
       "      <td>3</td>\n",
       "      <td>Allen, Mr. William Henry</td>\n",
       "      <td>male</td>\n",
       "      <td>35.0</td>\n",
       "      <td>0</td>\n",
       "      <td>0</td>\n",
       "      <td>373450</td>\n",
       "      <td>8.0500</td>\n",
       "      <td>NaN</td>\n",
       "      <td>S</td>\n",
       "    </tr>\n",
       "  </tbody>\n",
       "</table>\n",
       "</div>"
      ],
      "text/plain": [
       "   PassengerId  Survived  Pclass  \\\n",
       "0            1         0       3   \n",
       "1            2         1       1   \n",
       "2            3         1       3   \n",
       "3            4         1       1   \n",
       "4            5         0       3   \n",
       "\n",
       "                                                Name     Sex   Age  SibSp  \\\n",
       "0                            Braund, Mr. Owen Harris    male  22.0      1   \n",
       "1  Cumings, Mrs. John Bradley (Florence Briggs Th...  female  38.0      1   \n",
       "2                             Heikkinen, Miss. Laina  female  26.0      0   \n",
       "3       Futrelle, Mrs. Jacques Heath (Lily May Peel)  female  35.0      1   \n",
       "4                           Allen, Mr. William Henry    male  35.0      0   \n",
       "\n",
       "   Parch            Ticket     Fare Cabin Embarked  \n",
       "0      0         A/5 21171   7.2500   NaN        S  \n",
       "1      0          PC 17599  71.2833   C85        C  \n",
       "2      0  STON/O2. 3101282   7.9250   NaN        S  \n",
       "3      0            113803  53.1000  C123        S  \n",
       "4      0            373450   8.0500   NaN        S  "
      ]
     },
     "execution_count": 2,
     "metadata": {},
     "output_type": "execute_result"
    }
   ],
   "source": [
    "df = pd.read_csv(\"titanic.csv\")\n",
    "df.head()"
   ]
  },
  {
   "cell_type": "code",
   "execution_count": 3,
   "id": "06a56752",
   "metadata": {},
   "outputs": [
    {
     "data": {
      "text/plain": [
       "(891, 12)"
      ]
     },
     "execution_count": 3,
     "metadata": {},
     "output_type": "execute_result"
    }
   ],
   "source": [
    "df.shape"
   ]
  },
  {
   "cell_type": "code",
   "execution_count": 4,
   "id": "124ba3c5",
   "metadata": {
    "scrolled": true
   },
   "outputs": [
    {
     "data": {
      "text/plain": [
       "PassengerId      0\n",
       "Survived         0\n",
       "Pclass           0\n",
       "Name             0\n",
       "Sex              0\n",
       "Age            177\n",
       "SibSp            0\n",
       "Parch            0\n",
       "Ticket           0\n",
       "Fare             0\n",
       "Cabin          687\n",
       "Embarked         2\n",
       "dtype: int64"
      ]
     },
     "execution_count": 4,
     "metadata": {},
     "output_type": "execute_result"
    }
   ],
   "source": [
    "df.isnull().sum()"
   ]
  },
  {
   "cell_type": "markdown",
   "id": "bc551010",
   "metadata": {},
   "source": [
    "### It follows Gaussian/Normal distribution"
   ]
  },
  {
   "cell_type": "code",
   "execution_count": 5,
   "id": "e6cac808",
   "metadata": {
    "scrolled": true
   },
   "outputs": [
    {
     "name": "stderr",
     "output_type": "stream",
     "text": [
      "/opt/anaconda3/lib/python3.8/site-packages/seaborn/distributions.py:2557: FutureWarning: `distplot` is a deprecated function and will be removed in a future version. Please adapt your code to use either `displot` (a figure-level function with similar flexibility) or `histplot` (an axes-level function for histograms).\n",
      "  warnings.warn(msg, FutureWarning)\n"
     ]
    },
    {
     "data": {
      "text/plain": [
       "<AxesSubplot:xlabel='Age', ylabel='Density'>"
      ]
     },
     "execution_count": 5,
     "metadata": {},
     "output_type": "execute_result"
    },
    {
     "data": {
      "image/png": "[encoded data removed]",
      "text/plain": [
       "<Figure size 432x288 with 1 Axes>"
      ]
     },
     "metadata": {
      "needs_background": "light"
     },
     "output_type": "display_data"
    }
   ],
   "source": [
    "sns.distplot(df['Age'].dropna())  # It looks like normal distribution(good one)"
   ]
  },
  {
   "cell_type": "code",
   "execution_count": 6,
   "id": "57892993",
   "metadata": {},
   "outputs": [
    {
     "name": "stderr",
     "output_type": "stream",
     "text": [
      "/opt/anaconda3/lib/python3.8/site-packages/seaborn/distributions.py:2557: FutureWarning: `distplot` is a deprecated function and will be removed in a future version. Please adapt your code to use either `displot` (a figure-level function with similar flexibility) or `histplot` (an axes-level function for histograms).\n",
      "  warnings.warn(msg, FutureWarning)\n"
     ]
    },
    {
     "data": {
      "text/plain": [
       "<AxesSubplot:xlabel='Age', ylabel='Density'>"
      ]
     },
     "execution_count": 6,
     "metadata": {},
     "output_type": "execute_result"
    },
    {
     "data": {
      "image/png": "[encoded data removed]",
      "text/plain": [
       "<Figure size 432x288 with 1 Axes>"
      ]
     },
     "metadata": {
      "needs_background": "light"
     },
     "output_type": "display_data"
    }
   ],
   "source": [
    "sns.distplot(df['Age'].fillna(100))  # here 100 is the outlier"
   ]
  },
  {
   "cell_type": "code",
   "execution_count": 7,
   "id": "c757f683",
   "metadata": {},
   "outputs": [
    {
     "data": {
      "text/plain": [
       "Text(0, 0.5, 'No of passengers')"
      ]
     },
     "execution_count": 7,
     "metadata": {},
     "output_type": "execute_result"
    },
    {
     "data": {
      "image/png": "[encoded data removed]",
      "text/plain": [
       "<Figure size 432x288 with 1 Axes>"
      ]
     },
     "metadata": {
      "needs_background": "light"
     },
     "output_type": "display_data"
    }
   ],
   "source": [
    "figure = df.Age.hist(bins=50)    # one way to plot graph like matplotlib ww use to plot\n",
    "figure.set_title(\"Age Vs No of passengers\", fontsize =20, color = \"Green\")\n",
    "figure.set_xlabel(\"Age\")\n",
    "figure.set_ylabel(\"No of passengers\")"
   ]
  },
  {
   "cell_type": "code",
   "execution_count": 15,
   "id": "d609734a",
   "metadata": {
    "scrolled": true
   },
   "outputs": [
    {
     "data": {
      "image/png": "[encoded data removed]",
      "text/plain": [
       "<Figure size 432x288 with 1 Axes>"
      ]
     },
     "metadata": {
      "needs_background": "light"
     },
     "output_type": "display_data"
    }
   ],
   "source": [
    "figure = df.boxplot(column = \"Age\")"
   ]
  },
  {
   "cell_type": "code",
   "execution_count": 9,
   "id": "1e3c6c8d",
   "metadata": {
    "scrolled": true
   },
   "outputs": [
    {
     "data": {
      "text/plain": [
       "count    714.000000\n",
       "mean      29.699118\n",
       "std       14.526497\n",
       "min        0.420000\n",
       "25%       20.125000\n",
       "50%       28.000000\n",
       "75%       38.000000\n",
       "max       80.000000\n",
       "Name: Age, dtype: float64"
      ]
     },
     "execution_count": 9,
     "metadata": {},
     "output_type": "execute_result"
    }
   ],
   "source": [
    "df.Age.describe()"
   ]
  },
  {
   "cell_type": "code",
   "execution_count": 10,
   "id": "ad770a20",
   "metadata": {},
   "outputs": [
    {
     "name": "stdout",
     "output_type": "stream",
     "text": [
      "Mean :  29.69911764705882\n",
      "upper_boundary :  73.27860964406095\n",
      "lower_boundary :  -13.88037434994331\n"
     ]
    }
   ],
   "source": [
    "#### Assuming Age follows A Gaussian distribution we will calculate the boundaries which differentiate the outliers\n",
    "# here we will take upper_boundary as 3 standard deviation rightside to the mean in graph and lower_boundary as 3 standard deviation leftside to the mean in the graph\n",
    "mean = df['Age'].mean()\n",
    "upper_boundary = df['Age'].mean() + 3 * df['Age'].std()\n",
    "lower_boundary = df['Age'].mean() - 3 * df['Age'].std()\n",
    "print(\"Mean : \",mean)\n",
    "print(\"upper_boundary : \",upper_boundary)\n",
    "print(\"lower_boundary : \",lower_boundary)"
   ]
  },
  {
   "cell_type": "markdown",
   "id": "cccc1b8a",
   "metadata": {},
   "source": [
    "### If the Data is Gaussian distribution until here (lower_boundary, upper_boundary)we can decide and say these are the outliers"
   ]
  },
  {
   "cell_type": "code",
   "execution_count": 11,
   "id": "adca331c",
   "metadata": {},
   "outputs": [
    {
     "data": {
      "text/plain": [
       "17.875"
      ]
     },
     "execution_count": 11,
     "metadata": {},
     "output_type": "execute_result"
    }
   ],
   "source": [
    "#### lets compute the Inter Quantile range to calculate the boundaries\n",
    "IQR = df['Age'].quantile(0.75) - df['Age'].quantile(0.25)\n",
    "IQR"
   ]
  },
  {
   "cell_type": "markdown",
   "id": "5f3eef32",
   "metadata": {},
   "source": [
    "### This is for the Skewed Data. we need to use the below technique(lower_bridge, upper_bridge) to find the outliers"
   ]
  },
  {
   "cell_type": "code",
   "execution_count": 12,
   "id": "eeb7c341",
   "metadata": {
    "scrolled": true
   },
   "outputs": [
    {
     "name": "stdout",
     "output_type": "stream",
     "text": [
      "lower_bridge :  -6.6875\n",
      "upper_bridge :  64.8125\n"
     ]
    }
   ],
   "source": [
    "lower_bridge = df['Age'].quantile(0.25) - (IQR*1.5)  # this 1.5 value is given by domain expert but we take 1.5 usually\n",
    "upper_bridge = df['Age'].quantile(0.75) + (IQR*1.5)\n",
    "print(\"lower_bridge : \",lower_bridge) # here we will not take negative values as age cannot be negative\n",
    "print(\"upper_bridge : \",upper_bridge)  # after 64 everythng is outlier"
   ]
  },
  {
   "cell_type": "code",
   "execution_count": 13,
   "id": "9584b0b7",
   "metadata": {},
   "outputs": [
    {
     "name": "stdout",
     "output_type": "stream",
     "text": [
      "lower_bridge :  -33.5\n",
      "upper_bridge :  91.625\n"
     ]
    }
   ],
   "source": [
    "# Extreme Outilers \n",
    "#like in the gaussian graph within 3 standard deviation we have 99.5% of the data\n",
    "lower_bridge = df['Age'].quantile(0.25) - (IQR*3)\n",
    "upper_bridge = df['Age'].quantile(0.75) + (IQR*3)\n",
    "print(\"lower_bridge : \",lower_bridge)\n",
    "print(\"upper_bridge : \",upper_bridge)  # here after 91.6 all are outliers"
   ]
  },
  {
   "cell_type": "markdown",
   "id": "7307cdd2",
   "metadata": {},
   "source": [
    "# What if the feature is Skwews?"
   ]
  },
  {
   "cell_type": "code",
   "execution_count": 22,
   "id": "9210ba73",
   "metadata": {},
   "outputs": [
    {
     "data": {
      "text/plain": [
       "Text(0, 0.5, 'No of passengers')"
      ]
     },
     "execution_count": 22,
     "metadata": {},
     "output_type": "execute_result"
    },
    {
     "data": {
      "image/png": "[encoded data removed]",
      "text/plain": [
       "<Figure size 432x288 with 1 Axes>"
      ]
     },
     "metadata": {
      "needs_background": "light"
     },
     "output_type": "display_data"
    }
   ],
   "source": [
    "figure_FARE = df.Fare.hist(bins=50)   ## here the data is rightly skewed\n",
    "figure_FARE.set_title(\"Fare\")\n",
    "figure_FARE.set_xlabel(\"Fare\")\n",
    "figure_FARE.set_ylabel(\"No of passengers\")"
   ]
  },
  {
   "cell_type": "code",
   "execution_count": 23,
   "id": "1dbf932b",
   "metadata": {
    "scrolled": true
   },
   "outputs": [
    {
     "data": {
      "text/plain": [
       "<AxesSubplot:>"
      ]
     },
     "execution_count": 23,
     "metadata": {},
     "output_type": "execute_result"
    },
    {
     "data": {
      "image/png": "[encoded data removed]",
      "text/plain": [
       "<Figure size 432x288 with 1 Axes>"
      ]
     },
     "metadata": {
      "needs_background": "light"
     },
     "output_type": "display_data"
    }
   ],
   "source": [
    "df.boxplot(column = 'Fare')  # in plot we can so many outliers are there"
   ]
  },
  {
   "cell_type": "code",
   "execution_count": 24,
   "id": "2df722d3",
   "metadata": {
    "scrolled": true
   },
   "outputs": [
    {
     "data": {
      "text/plain": [
       "count    891.000000\n",
       "mean      32.204208\n",
       "std       49.693429\n",
       "min        0.000000\n",
       "25%        7.910400\n",
       "50%       14.454200\n",
       "75%       31.000000\n",
       "max      512.329200\n",
       "Name: Fare, dtype: float64"
      ]
     },
     "execution_count": 24,
     "metadata": {},
     "output_type": "execute_result"
    }
   ],
   "source": [
    "df['Fare'].describe()  # there is a huge difference between 75%ile and max value we can see"
   ]
  },
  {
   "cell_type": "code",
   "execution_count": 27,
   "id": "f6e092be",
   "metadata": {},
   "outputs": [
    {
     "data": {
      "text/plain": [
       "23.0896"
      ]
     },
     "execution_count": 27,
     "metadata": {},
     "output_type": "execute_result"
    }
   ],
   "source": [
    "IQR_FARE = df['Fare'].quantile(0.75) - df['Fare'].quantile(0.25)\n",
    "IQR_FARE"
   ]
  },
  {
   "cell_type": "code",
   "execution_count": 28,
   "id": "2bee1b4d",
   "metadata": {},
   "outputs": [
    {
     "name": "stdout",
     "output_type": "stream",
     "text": [
      "lower_bridge :  -26.724\n",
      "upper_bridge :  65.6344\n"
     ]
    }
   ],
   "source": [
    "lower_bridge = df['Fare'].quantile(0.25) - (IQR_FARE*1.5)\n",
    "upper_bridge = df['Fare'].quantile(0.75) + (IQR_FARE *1.5)\n",
    "print(\"lower_bridge : \" ,lower_bridge)\n",
    "print(\"upper_bridge : \" ,upper_bridge)"
   ]
  },
  {
   "cell_type": "markdown",
   "id": "2126785b",
   "metadata": {},
   "source": [
    "### In case of Skewed Data we need to use these extreme Outliers"
   ]
  },
  {
   "cell_type": "code",
   "execution_count": 29,
   "id": "06c8f7f8",
   "metadata": {
    "scrolled": true
   },
   "outputs": [
    {
     "name": "stdout",
     "output_type": "stream",
     "text": [
      "lower_bridge :  -61.358399999999996\n",
      "upper_bridge :  100.2688\n"
     ]
    }
   ],
   "source": [
    "# EXtreme Outliers\n",
    "lower_bridge = df['Fare'].quantile(0.25) - (IQR_FARE*3)\n",
    "upper_bridge = df['Fare'].quantile(0.75) + (IQR_FARE *3)\n",
    "print(\"lower_bridge : \" ,lower_bridge)\n",
    "print(\"upper_bridge : \" ,upper_bridge)"
   ]
  },
  {
   "cell_type": "markdown",
   "id": "df22efdf",
   "metadata": {},
   "source": [
    "### Now we can either remove or replace the outliers. If the dataset is very less we need to replace it els remove the outliers"
   ]
  },
  {
   "cell_type": "code",
   "execution_count": 30,
   "id": "ef92747f",
   "metadata": {},
   "outputs": [],
   "source": [
    "data = df.copy()"
   ]
  },
  {
   "cell_type": "code",
   "execution_count": 31,
   "id": "22b1a928",
   "metadata": {},
   "outputs": [],
   "source": [
    "data.loc[data['Age']>=73, 'Age'] = 73   # here we arae replacing the outliers"
   ]
  },
  {
   "cell_type": "code",
   "execution_count": 33,
   "id": "22339112",
   "metadata": {},
   "outputs": [],
   "source": [
    "data.loc[data['Fare']>=100, 'Fare'] = 100 # here we are replacing the outliers"
   ]
  },
  {
   "cell_type": "code",
   "execution_count": 34,
   "id": "1428b8a3",
   "metadata": {
    "scrolled": true
   },
   "outputs": [
    {
     "data": {
      "text/plain": [
       "Text(0, 0.5, 'No of passengers')"
      ]
     },
     "execution_count": 34,
     "metadata": {},
     "output_type": "execute_result"
    },
    {
     "data": {
      "image/png": "[encoded data removed]",
      "text/plain": [
       "<Figure size 432x288 with 1 Axes>"
      ]
     },
     "metadata": {
      "needs_background": "light"
     },
     "output_type": "display_data"
    }
   ],
   "source": [
    "figure = data.Age.hist(bins=50)    # one way to plot graph like matplotlib we use to plot\n",
    "figure.set_title(\"Age Vs No of passengers\", fontsize =20, color = \"Green\")\n",
    "figure.set_xlabel(\"Age\")\n",
    "figure.set_ylabel(\"No of passengers\") # here we can the maximum age is now 73"
   ]
  },
  {
   "cell_type": "code",
   "execution_count": 35,
   "id": "df5cb4ec",
   "metadata": {
    "scrolled": false
   },
   "outputs": [
    {
     "data": {
      "text/plain": [
       "Text(0, 0.5, 'No of passengers')"
      ]
     },
     "execution_count": 35,
     "metadata": {},
     "output_type": "execute_result"
    },
    {
     "data": {
      "image/png": "[encoded data removed]",
      "text/plain": [
       "<Figure size 432x288 with 1 Axes>"
      ]
     },
     "metadata": {
      "needs_background": "light"
     },
     "output_type": "display_data"
    }
   ],
   "source": [
    "figure_FARE = data.Fare.hist(bins=50)   ## here the data is rightly skewed\n",
    "figure_FARE.set_title(\"Fare\")\n",
    "figure_FARE.set_xlabel(\"Fare\")\n",
    "figure_FARE.set_ylabel(\"No of passengers\") # here the maximum Fare is 100"
   ]
  },
  {
   "cell_type": "markdown",
   "id": "81a78b6d",
   "metadata": {},
   "source": [
    "### Lets apply some ML algotithms on the dataset how it works"
   ]
  },
  {
   "cell_type": "code",
   "execution_count": 39,
   "id": "07d3cdb6",
   "metadata": {},
   "outputs": [],
   "source": [
    "from sklearn.model_selection import train_test_split\n",
    "X_train, X_test, y_train, y_test = train_test_split(data[['Age','Fare']].fillna(0), data['Survived'], test_size=0.3)"
   ]
  },
  {
   "cell_type": "code",
   "execution_count": 43,
   "id": "e523bd3b",
   "metadata": {
    "scrolled": true
   },
   "outputs": [
    {
     "name": "stdout",
     "output_type": "stream",
     "text": [
      "Accuracy_score : 0.6940298507462687\n",
      "roc_auc_score : 0.7086915278354182\n"
     ]
    }
   ],
   "source": [
    "#### Logistic Regression\n",
    "from sklearn.linear_model import LogisticRegression\n",
    "classifier = LogisticRegression()\n",
    "classifier.fit(X_train, y_train)\n",
    "y_pred = classifier.predict(X_test)\n",
    "y_pred1 = classifier.predict_proba(X_test)\n",
    "\n",
    "from sklearn.metrics import accuracy_score, roc_auc_score\n",
    "print(\"Accuracy_score : {}\".format(accuracy_score(y_test, y_pred)))\n",
    "print(\"roc_auc_score : {}\".format(roc_auc_score(y_test, y_pred1[:,1])))"
   ]
  },
  {
   "cell_type": "markdown",
   "id": "b850604e",
   "metadata": {},
   "source": [
    "##### lets apply some another ML algorithm"
   ]
  },
  {
   "cell_type": "code",
   "execution_count": 42,
   "id": "01161d95",
   "metadata": {},
   "outputs": [
    {
     "name": "stdout",
     "output_type": "stream",
     "text": [
      "Accuracy_score : 0.6828358208955224\n",
      "roc_auc_score : 0.7353708424734688\n"
     ]
    }
   ],
   "source": [
    "from sklearn.ensemble import RandomForestClassifier\n",
    "classifier = RandomForestClassifier()\n",
    "classifier.fit(X_train, y_train)\n",
    "y_pred = classifier.predict(X_test)\n",
    "y_pred1 = classifier.predict_proba(X_test)\n",
    "\n",
    "from sklearn.metrics import accuracy_score, roc_auc_score\n",
    "print(\"Accuracy_score : {}\".format(accuracy_score(y_test, y_pred)))\n",
    "print(\"roc_auc_score : {}\".format(roc_auc_score(y_test, y_pred1[:,1])))"
   ]
  }
 ],
 "metadata": {
  "kernelspec": {
   "display_name": "Python 3",
   "language": "python",
   "name": "python3"
  },
  "language_info": {
   "codemirror_mode": {
    "name": "ipython",
    "version": 3
   },
   "file_extension": ".py",
   "mimetype": "text/x-python",
   "name": "python",
   "nbconvert_exporter": "python",
   "pygments_lexer": "ipython3",
   "version": "3.8.8"
  }
 },
 "nbformat": 4,
 "nbformat_minor": 5
}
