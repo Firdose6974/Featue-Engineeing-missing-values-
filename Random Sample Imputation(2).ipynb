{
 "cells": [
  {
   "cell_type": "markdown",
   "id": "dbe08ae7",
   "metadata": {},
   "source": [
    "# Feature Engineering-Handling Missing Values(Day-2)"
   ]
  },
  {
   "cell_type": "markdown",
   "id": "b490fa00",
   "metadata": {},
   "source": [
    "# Random Sample Imputation\n",
    "\n",
    "Aim: Random sample imputation consists of taking random observation from the dataset and we use this observation to      replace NAN values(It is similar to mean/median imputation)\n",
    "\n",
    "When should it used?\n",
    "It should be used when data is missing completely at random"
   ]
  },
  {
   "cell_type": "code",
   "execution_count": 1,
   "id": "7d8e3cc9",
   "metadata": {},
   "outputs": [],
   "source": [
    "import numpy as np\n",
    "import pandas as pd\n",
    "import matplotlib.pyplot as plt\n",
    "%matplotlib inline\n",
    "import seaborn as sns\n",
    "\n",
    "pd.pandas.set_option(\"display.max_columns\",None)\n",
    "pd.pandas.set_option(\"display.max_rows\",None)"
   ]
  },
  {
   "cell_type": "code",
   "execution_count": 2,
   "id": "1b54d677",
   "metadata": {},
   "outputs": [
    {
     "data": {
      "text/html": [
       "<div>\n",
       "<style scoped>\n",
       "    .dataframe tbody tr th:only-of-type {\n",
       "        vertical-align: middle;\n",
       "    }\n",
       "\n",
       "    .dataframe tbody tr th {\n",
       "        vertical-align: top;\n",
       "    }\n",
       "\n",
       "    .dataframe thead th {\n",
       "        text-align: right;\n",
       "    }\n",
       "</style>\n",
       "<table border=\"1\" class=\"dataframe\">\n",
       "  <thead>\n",
       "    <tr style=\"text-align: right;\">\n",
       "      <th></th>\n",
       "      <th>Survived</th>\n",
       "      <th>Age</th>\n",
       "      <th>Fare</th>\n",
       "    </tr>\n",
       "  </thead>\n",
       "  <tbody>\n",
       "    <tr>\n",
       "      <th>0</th>\n",
       "      <td>0</td>\n",
       "      <td>22.0</td>\n",
       "      <td>7.2500</td>\n",
       "    </tr>\n",
       "    <tr>\n",
       "      <th>1</th>\n",
       "      <td>1</td>\n",
       "      <td>38.0</td>\n",
       "      <td>71.2833</td>\n",
       "    </tr>\n",
       "    <tr>\n",
       "      <th>2</th>\n",
       "      <td>1</td>\n",
       "      <td>26.0</td>\n",
       "      <td>7.9250</td>\n",
       "    </tr>\n",
       "    <tr>\n",
       "      <th>3</th>\n",
       "      <td>1</td>\n",
       "      <td>35.0</td>\n",
       "      <td>53.1000</td>\n",
       "    </tr>\n",
       "    <tr>\n",
       "      <th>4</th>\n",
       "      <td>0</td>\n",
       "      <td>35.0</td>\n",
       "      <td>8.0500</td>\n",
       "    </tr>\n",
       "  </tbody>\n",
       "</table>\n",
       "</div>"
      ],
      "text/plain": [
       "   Survived   Age     Fare\n",
       "0         0  22.0   7.2500\n",
       "1         1  38.0  71.2833\n",
       "2         1  26.0   7.9250\n",
       "3         1  35.0  53.1000\n",
       "4         0  35.0   8.0500"
      ]
     },
     "execution_count": 2,
     "metadata": {},
     "output_type": "execute_result"
    }
   ],
   "source": [
    "df = pd.read_csv(\"titanic.csv\", usecols=[\"Age\", \"Fare\", \"Survived\"])\n",
    "df.head()"
   ]
  },
  {
   "cell_type": "code",
   "execution_count": 3,
   "id": "28f9ec32",
   "metadata": {},
   "outputs": [
    {
     "data": {
      "text/plain": [
       "(891, 3)"
      ]
     },
     "execution_count": 3,
     "metadata": {},
     "output_type": "execute_result"
    }
   ],
   "source": [
    "df.shape"
   ]
  },
  {
   "cell_type": "code",
   "execution_count": 4,
   "id": "7b073fd3",
   "metadata": {},
   "outputs": [
    {
     "data": {
      "text/plain": [
       "Survived      0\n",
       "Age         177\n",
       "Fare          0\n",
       "dtype: int64"
      ]
     },
     "execution_count": 4,
     "metadata": {},
     "output_type": "execute_result"
    }
   ],
   "source": [
    "df.isnull().sum()"
   ]
  },
  {
   "cell_type": "code",
   "execution_count": 5,
   "id": "bc3aa567",
   "metadata": {},
   "outputs": [
    {
     "data": {
      "text/plain": [
       "Survived    0.000000\n",
       "Age         0.198653\n",
       "Fare        0.000000\n",
       "dtype: float64"
      ]
     },
     "execution_count": 5,
     "metadata": {},
     "output_type": "execute_result"
    }
   ],
   "source": [
    "df.isnull().mean()  # percentage of missing values"
   ]
  },
  {
   "cell_type": "code",
   "execution_count": 6,
   "id": "e53b3f76",
   "metadata": {},
   "outputs": [
    {
     "data": {
      "text/plain": [
       "177"
      ]
     },
     "execution_count": 6,
     "metadata": {},
     "output_type": "execute_result"
    }
   ],
   "source": [
    "df[\"Age\"].isnull().sum()  # adding all the NAN values"
   ]
  },
  {
   "cell_type": "code",
   "execution_count": 7,
   "id": "86af0786",
   "metadata": {},
   "outputs": [
    {
     "data": {
      "text/plain": [
       "685    25.0\n",
       "Name: Age, dtype: float64"
      ]
     },
     "execution_count": 7,
     "metadata": {},
     "output_type": "execute_result"
    }
   ],
   "source": [
    "df[\"Age\"].dropna().sample()  # It will pick up a random value from the dataset (excluding all the NAN values)"
   ]
  },
  {
   "cell_type": "code",
   "execution_count": 8,
   "id": "a18c75f7",
   "metadata": {},
   "outputs": [
    {
     "data": {
      "text/plain": [
       "423    28.00\n",
       "177    50.00\n",
       "305     0.92\n",
       "292    36.00\n",
       "889    26.00\n",
       "595    36.00\n",
       "637    31.00\n",
       "54     65.00\n",
       "456    65.00\n",
       "110    47.00\n",
       "287    22.00\n",
       "315    26.00\n",
       "691     4.00\n",
       "811    39.00\n",
       "861    21.00\n",
       "15     55.00\n",
       "239    33.00\n",
       "644     0.75\n",
       "394    24.00\n",
       "795    39.00\n",
       "131    20.00\n",
       "346    40.00\n",
       "9      14.00\n",
       "477    29.00\n",
       "606    30.00\n",
       "469     0.75\n",
       "325    36.00\n",
       "72     21.00\n",
       "724    27.00\n",
       "40     40.00\n",
       "382    32.00\n",
       "824     2.00\n",
       "682    20.00\n",
       "591    52.00\n",
       "614    35.00\n",
       "197    42.00\n",
       "1      38.00\n",
       "512    36.00\n",
       "640    20.00\n",
       "830    15.00\n",
       "225    22.00\n",
       "391    21.00\n",
       "621    42.00\n",
       "102    21.00\n",
       "756    28.00\n",
       "777     5.00\n",
       "261     3.00\n",
       "655    24.00\n",
       "590    35.00\n",
       "403    28.00\n",
       "822    38.00\n",
       "345    24.00\n",
       "666    25.00\n",
       "218    32.00\n",
       "772    57.00\n",
       "729    25.00\n",
       "446    13.00\n",
       "442    25.00\n",
       "570    62.00\n",
       "35     42.00\n",
       "332    38.00\n",
       "631    51.00\n",
       "312    26.00\n",
       "441    20.00\n",
       "504    16.00\n",
       "251    29.00\n",
       "609    40.00\n",
       "812    35.00\n",
       "297     2.00\n",
       "97     23.00\n",
       "212    22.00\n",
       "390    36.00\n",
       "417    18.00\n",
       "558    39.00\n",
       "195    58.00\n",
       "681    27.00\n",
       "677    18.00\n",
       "67     19.00\n",
       "422    29.00\n",
       "658    23.00\n",
       "803     0.42\n",
       "599    49.00\n",
       "339    45.00\n",
       "506    33.00\n",
       "11     58.00\n",
       "89     24.00\n",
       "616    34.00\n",
       "885    39.00\n",
       "318    31.00\n",
       "626    57.00\n",
       "151    22.00\n",
       "296    23.50\n",
       "649    23.00\n",
       "787     8.00\n",
       "829    62.00\n",
       "850     4.00\n",
       "412    33.00\n",
       "702    18.00\n",
       "810    26.00\n",
       "657    32.00\n",
       "142    24.00\n",
       "430    28.00\n",
       "706    45.00\n",
       "583    36.00\n",
       "291    19.00\n",
       "66     29.00\n",
       "310    24.00\n",
       "544    50.00\n",
       "779    43.00\n",
       "266    16.00\n",
       "51     21.00\n",
       "620    27.00\n",
       "63      4.00\n",
       "450    36.00\n",
       "438    64.00\n",
       "769    32.00\n",
       "21     34.00\n",
       "860    41.00\n",
       "98     34.00\n",
       "84     17.00\n",
       "715    19.00\n",
       "874    28.00\n",
       "69     26.00\n",
       "355    28.00\n",
       "262    52.00\n",
       "518    36.00\n",
       "618     4.00\n",
       "771    48.00\n",
       "818    43.00\n",
       "327    36.00\n",
       "366    60.00\n",
       "338    45.00\n",
       "377    27.00\n",
       "701    35.00\n",
       "607    27.00\n",
       "421    21.00\n",
       "215    31.00\n",
       "448     5.00\n",
       "308    30.00\n",
       "379    19.00\n",
       "123    32.50\n",
       "471    38.00\n",
       "615    24.00\n",
       "387    36.00\n",
       "685    25.00\n",
       "20     35.00\n",
       "331    45.50\n",
       "396    31.00\n",
       "452    30.00\n",
       "395    22.00\n",
       "882    22.00\n",
       "821    27.00\n",
       "314    43.00\n",
       "622    20.00\n",
       "204    18.00\n",
       "60     22.00\n",
       "731    11.00\n",
       "81     29.00\n",
       "676    24.50\n",
       "433    17.00\n",
       "378    20.00\n",
       "174    56.00\n",
       "624    21.00\n",
       "642     2.00\n",
       "157    30.00\n",
       "427    19.00\n",
       "698    49.00\n",
       "179    36.00\n",
       "24      8.00\n",
       "630    80.00\n",
       "458    50.00\n",
       "49     18.00\n",
       "539    22.00\n",
       "267    25.00\n",
       "352    15.00\n",
       "99     34.00\n",
       "689    15.00\n",
       "Name: Age, dtype: float64"
      ]
     },
     "execution_count": 8,
     "metadata": {},
     "output_type": "execute_result"
    }
   ],
   "source": [
    "df[\"Age\"].dropna().sample(df[\"Age\"].isnull().sum(), random_state = 0)  # filling all the NAN values with random values"
   ]
  },
  {
   "cell_type": "code",
   "execution_count": 9,
   "id": "fd436a47",
   "metadata": {},
   "outputs": [],
   "source": [
    "def impute_nan(df, variable, median):\n",
    "    df[variable+\"_median\"] = df[variable].fillna(median)\n",
    "    df[variable+\"_random\"] = df[variable]\n",
    "    \n",
    "    #It will have the random sample value to fill NAN values\n",
    "    random_sample = df[\"Age\"].dropna().sample(df[\"Age\"].isnull().sum(), random_state = 0)\n",
    "    \n",
    "    # Pandas need to have the same index to merge the dataset\n",
    "    random_sample.index = df[df[variable].isnull()].index  # checking which indexes has the NAN values(matching the NAN values and random sample a value index)\n",
    "    df.loc[df[variable].isnull(), variable+\"_random\"]= random_sample  # df.loc[rows, columns]"
   ]
  },
  {
   "cell_type": "code",
   "execution_count": 10,
   "id": "6b64c5d8",
   "metadata": {},
   "outputs": [
    {
     "data": {
      "text/plain": [
       "28.0"
      ]
     },
     "execution_count": 10,
     "metadata": {},
     "output_type": "execute_result"
    }
   ],
   "source": [
    "median = df[\"Age\"].median()\n",
    "median"
   ]
  },
  {
   "cell_type": "code",
   "execution_count": 11,
   "id": "343bce13",
   "metadata": {},
   "outputs": [],
   "source": [
    "impute_nan(df, \"Age\", median)"
   ]
  },
  {
   "cell_type": "code",
   "execution_count": 12,
   "id": "6c5cf4a0",
   "metadata": {
    "scrolled": true
   },
   "outputs": [
    {
     "data": {
      "text/html": [
       "<div>\n",
       "<style scoped>\n",
       "    .dataframe tbody tr th:only-of-type {\n",
       "        vertical-align: middle;\n",
       "    }\n",
       "\n",
       "    .dataframe tbody tr th {\n",
       "        vertical-align: top;\n",
       "    }\n",
       "\n",
       "    .dataframe thead th {\n",
       "        text-align: right;\n",
       "    }\n",
       "</style>\n",
       "<table border=\"1\" class=\"dataframe\">\n",
       "  <thead>\n",
       "    <tr style=\"text-align: right;\">\n",
       "      <th></th>\n",
       "      <th>Survived</th>\n",
       "      <th>Age</th>\n",
       "      <th>Fare</th>\n",
       "      <th>Age_median</th>\n",
       "      <th>Age_random</th>\n",
       "    </tr>\n",
       "  </thead>\n",
       "  <tbody>\n",
       "    <tr>\n",
       "      <th>0</th>\n",
       "      <td>0</td>\n",
       "      <td>22.0</td>\n",
       "      <td>7.2500</td>\n",
       "      <td>22.0</td>\n",
       "      <td>22.0</td>\n",
       "    </tr>\n",
       "    <tr>\n",
       "      <th>1</th>\n",
       "      <td>1</td>\n",
       "      <td>38.0</td>\n",
       "      <td>71.2833</td>\n",
       "      <td>38.0</td>\n",
       "      <td>38.0</td>\n",
       "    </tr>\n",
       "    <tr>\n",
       "      <th>2</th>\n",
       "      <td>1</td>\n",
       "      <td>26.0</td>\n",
       "      <td>7.9250</td>\n",
       "      <td>26.0</td>\n",
       "      <td>26.0</td>\n",
       "    </tr>\n",
       "    <tr>\n",
       "      <th>3</th>\n",
       "      <td>1</td>\n",
       "      <td>35.0</td>\n",
       "      <td>53.1000</td>\n",
       "      <td>35.0</td>\n",
       "      <td>35.0</td>\n",
       "    </tr>\n",
       "    <tr>\n",
       "      <th>4</th>\n",
       "      <td>0</td>\n",
       "      <td>35.0</td>\n",
       "      <td>8.0500</td>\n",
       "      <td>35.0</td>\n",
       "      <td>35.0</td>\n",
       "    </tr>\n",
       "    <tr>\n",
       "      <th>5</th>\n",
       "      <td>0</td>\n",
       "      <td>NaN</td>\n",
       "      <td>8.4583</td>\n",
       "      <td>28.0</td>\n",
       "      <td>28.0</td>\n",
       "    </tr>\n",
       "    <tr>\n",
       "      <th>6</th>\n",
       "      <td>0</td>\n",
       "      <td>54.0</td>\n",
       "      <td>51.8625</td>\n",
       "      <td>54.0</td>\n",
       "      <td>54.0</td>\n",
       "    </tr>\n",
       "    <tr>\n",
       "      <th>7</th>\n",
       "      <td>0</td>\n",
       "      <td>2.0</td>\n",
       "      <td>21.0750</td>\n",
       "      <td>2.0</td>\n",
       "      <td>2.0</td>\n",
       "    </tr>\n",
       "    <tr>\n",
       "      <th>8</th>\n",
       "      <td>1</td>\n",
       "      <td>27.0</td>\n",
       "      <td>11.1333</td>\n",
       "      <td>27.0</td>\n",
       "      <td>27.0</td>\n",
       "    </tr>\n",
       "    <tr>\n",
       "      <th>9</th>\n",
       "      <td>1</td>\n",
       "      <td>14.0</td>\n",
       "      <td>30.0708</td>\n",
       "      <td>14.0</td>\n",
       "      <td>14.0</td>\n",
       "    </tr>\n",
       "  </tbody>\n",
       "</table>\n",
       "</div>"
      ],
      "text/plain": [
       "   Survived   Age     Fare  Age_median  Age_random\n",
       "0         0  22.0   7.2500        22.0        22.0\n",
       "1         1  38.0  71.2833        38.0        38.0\n",
       "2         1  26.0   7.9250        26.0        26.0\n",
       "3         1  35.0  53.1000        35.0        35.0\n",
       "4         0  35.0   8.0500        35.0        35.0\n",
       "5         0   NaN   8.4583        28.0        28.0\n",
       "6         0  54.0  51.8625        54.0        54.0\n",
       "7         0   2.0  21.0750         2.0         2.0\n",
       "8         1  27.0  11.1333        27.0        27.0\n",
       "9         1  14.0  30.0708        14.0        14.0"
      ]
     },
     "execution_count": 12,
     "metadata": {},
     "output_type": "execute_result"
    }
   ],
   "source": [
    "df.head(10)"
   ]
  },
  {
   "cell_type": "code",
   "execution_count": 29,
   "id": "ee873782",
   "metadata": {},
   "outputs": [
    {
     "data": {
      "text/plain": [
       "<matplotlib.legend.Legend at 0x7fef18e187f0>"
      ]
     },
     "execution_count": 29,
     "metadata": {},
     "output_type": "execute_result"
    },
    {
     "data": {
      "image/png": "[encoded data removed]",
      "text/plain": [
       "<Figure size 432x288 with 1 Axes>"
      ]
     },
     "metadata": {
      "needs_background": "light"
     },
     "output_type": "display_data"
    }
   ],
   "source": [
    "fig = plt.figure()\n",
    "ax = fig.add_subplot(111)\n",
    "df[\"Age\"].plot(kind = \"kde\", ax = ax, color = \"green\")\n",
    "df[\"Age_random\"].plot(kind=\"kde\", ax=ax, color=\"red\")\n",
    "# plt.legend()\n",
    "lines, labels = ax.get_legend_handles_labels()\n",
    "ax.legend(lines, labels, loc=\"best\")\n",
    " #In random imputation almost the Age and Age_random are same after the Random sample imputation , where as in mean/median imputation there is a change in the variance"
   ]
  },
  {
   "cell_type": "code",
   "execution_count": 30,
   "id": "045ebf7a",
   "metadata": {},
   "outputs": [
    {
     "data": {
      "text/plain": [
       "<matplotlib.legend.Legend at 0x7fef18cbf040>"
      ]
     },
     "execution_count": 30,
     "metadata": {},
     "output_type": "execute_result"
    },
    {
     "data": {
      "image/png": "[encoded data removed]",
      "text/plain": [
       "<Figure size 432x288 with 1 Axes>"
      ]
     },
     "metadata": {
      "needs_background": "light"
     },
     "output_type": "display_data"
    }
   ],
   "source": [
    "fig = plt.figure()\n",
    "ax = fig.add_subplot(111)\n",
    "df[\"Age\"].plot(kind = \"kde\", ax = ax, color = \"green\")\n",
    "df[\"Age_random\"].plot(kind=\"kde\", ax=ax, color=\"red\")\n",
    "df[\"Age_median\"].plot(kind = \"kde\", ax=ax, color = \"blue\")\n",
    "lines, labels = ax.get_legend_handles_labels()\n",
    "ax.legend(lines, labels, loc=\"best\")"
   ]
  },
  {
   "cell_type": "markdown",
   "id": "e458cd72",
   "metadata": {},
   "source": [
    "# Advantages\n",
    "## 1)Easy to implement\n",
    "## 2) very less distortion in variance\n",
    "## Random sample imputation > mean/median imputation\n",
    "\n",
    "# Disadvantages\n",
    "## 3) Every situation randomness wont work"
   ]
  }
 ],
 "metadata": {
  "kernelspec": {
   "display_name": "Python 3",
   "language": "python",
   "name": "python3"
  },
  "language_info": {
   "codemirror_mode": {
    "name": "ipython",
    "version": 3
   },
   "file_extension": ".py",
   "mimetype": "text/x-python",
   "name": "python",
   "nbconvert_exporter": "python",
   "pygments_lexer": "ipython3",
   "version": "3.8.8"
  }
 },
 "nbformat": 4,
 "nbformat_minor": 5
}
